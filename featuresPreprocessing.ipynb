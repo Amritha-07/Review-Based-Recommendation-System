{
 "cells": [
  {
   "cell_type": "code",
   "execution_count": null,
   "metadata": {
    "_cell_guid": "b1076dfc-b9ad-4769-8c92-a6c4dae69d19",
    "_uuid": "8f2839f25d086af736a60e9eeb907d3b93b6e0e5"
   },
   "outputs": [],
   "source": [
    "import numpy as np\n",
    "import pandas as pd\n",
    "import os"
   ]
  },
  {
   "cell_type": "code",
   "execution_count": null,
   "metadata": {
    "_cell_guid": "79c7e3d0-c299-4dcb-8224-4455121ee9b0",
    "_uuid": "d629ff2d2480ee46fbb7e2d37f6b5fab8052498a"
   },
   "outputs": [],
   "source": [
    "data = pd.read_csv('input/amazon-reviews-sample.csv')"
   ]
  },
  {
   "cell_type": "code",
   "execution_count": null,
   "metadata": {
    "_cell_guid": "dbe9f1f3-097c-4d0a-ae03-d7179224cc9b",
    "_uuid": "844666023e69d0229d6e78fa367067b7320e451a"
   },
   "outputs": [],
   "source": [
    "data.head()"
   ]
  },
  {
   "cell_type": "code",
   "execution_count": null,
   "metadata": {
    "_cell_guid": "faf24390-7f8f-4f91-87dd-a8a246d3ded3",
    "_uuid": "d0455f05337453dc18519057918f24ed7b26452b"
   },
   "outputs": [],
   "source": [
    "data['reviewText'].head()"
   ]
  },
  {
   "cell_type": "code",
   "execution_count": null,
   "metadata": {
    "_cell_guid": "5426f6c0-59b7-4206-9af7-4d47572f1cab",
    "_uuid": "73ed56c19fbcbe357e3e45838643d46a0519bb0a"
   },
   "outputs": [],
   "source": [
    "data.shape"
   ]
  },
  {
   "cell_type": "code",
   "execution_count": null,
   "metadata": {
    "_cell_guid": "cf0d26ef-471c-4a72-850e-1d89c6c4def4",
    "_uuid": "717bf8b6b23b0ddb4313d44d9d812cfa4cc70f2a"
   },
   "outputs": [],
   "source": [
    "from nltk.corpus import stopwords\n",
    "stop_words = set(stopwords.words('english'))\n",
    "\n",
    "from nltk.stem.wordnet import WordNetLemmatizer \n",
    "lem = WordNetLemmatizer()\n",
    "\n",
    "from nltk.stem.porter import PorterStemmer \n",
    "stem = PorterStemmer()\n",
    "\n",
    "def clean_text(input_text):\n",
    "    input_text = str(input_text)\n",
    "    words = input_text.split() \n",
    "    noise_free_words = [lem.lemmatize(word, \"v\") for word in words if word not in stop_words] \n",
    "    noise_free_text = \" \".join(noise_free_words) \n",
    "    return noise_free_text"
   ]
  },
  {
   "cell_type": "code",
   "execution_count": null,
   "metadata": {
    "_cell_guid": "ccae8ada-c963-4bca-84ac-196d6adc48c8",
    "_uuid": "5b0a553e874c6bf18e6e791eb19af317ba957733"
   },
   "outputs": [],
   "source": [
    "type(data['reviewText'][0])"
   ]
  },
  {
   "cell_type": "code",
   "execution_count": null,
   "metadata": {},
   "outputs": [],
   "source": [
    "import nltk\n",
    "nltk.download('wordnet')"
   ]
  },
  {
   "cell_type": "code",
   "execution_count": null,
   "metadata": {},
   "outputs": [],
   "source": [
    "nltk.download()"
   ]
  },
  {
   "cell_type": "code",
   "execution_count": null,
   "metadata": {
    "_cell_guid": "0a72ec5b-1866-4406-b3fb-6d0e263afcc5",
    "_uuid": "b5d5da76ef3c5a393bee8775798922dafa6536b4"
   },
   "outputs": [],
   "source": [
    "data['cleaned_review'] = data['reviewText'].apply(clean_text)"
   ]
  },
  {
   "cell_type": "code",
   "execution_count": null,
   "metadata": {
    "_cell_guid": "886b3a95-acc7-48ae-9aa0-055b2c94738b",
    "_uuid": "6441a81c6f7f0bf168af5a2c80eb5cf67ad443d6"
   },
   "outputs": [],
   "source": [
    "data.head()"
   ]
  },
  {
   "cell_type": "code",
   "execution_count": null,
   "metadata": {
    "_cell_guid": "bff7caea-9ed5-48ba-aa07-ccca48768b65",
    "_uuid": "003513406921189b46aec5965c95b3d65bdfe174"
   },
   "outputs": [],
   "source": [
    "def find_sentiment(text_input):\n",
    "    score = 0 \n",
    "    text_input = text_input.split()\n",
    "    f = open('input/pos.txt', 'r')\n",
    "    x = f.read()\n",
    "    x = x.split()\n",
    "    f1 = open('input/neg.txt', 'r')\n",
    "    y = f1.read()\n",
    "    y = y.split()\n",
    "    for i in text_input:\n",
    "        if i in x:\n",
    "            score = score + 1\n",
    "        if i in y:\n",
    "            score = score - 1\n",
    "    return int(score)"
   ]
  },
  {
   "cell_type": "code",
   "execution_count": null,
   "metadata": {
    "_cell_guid": "f924b76a-d69a-4a93-acd1-c868db1f61ce",
    "_uuid": "60a64cbcb75db4c5d48d417a36e58c028ce7a0c5"
   },
   "outputs": [],
   "source": [
    "data['sentiment'] = data['cleaned_review'].apply(find_sentiment)"
   ]
  },
  {
   "cell_type": "code",
   "execution_count": null,
   "metadata": {
    "_cell_guid": "d245b16f-b05e-4f1e-aed7-4dbaaa096438",
    "_uuid": "de80f03184ca41674a3e2fe465bc11a957adb4ab"
   },
   "outputs": [],
   "source": [
    "data.to_csv(\"output/data_with_senti.csv\")\n",
    "data['sentiment'].head()"
   ]
  },
  {
   "cell_type": "code",
   "execution_count": null,
   "metadata": {},
   "outputs": [],
   "source": [
    "data['sentiment'].value_counts()"
   ]
  },
  {
   "cell_type": "code",
   "execution_count": null,
   "metadata": {
    "_cell_guid": "419bb0db-4537-4e3a-a276-b04f5e650492",
    "_uuid": "adc5e3d5eeab419d03f8eb3082b81ae79be5ef48"
   },
   "outputs": [],
   "source": [
    "from nltk import word_tokenize, pos_tag\n",
    "corpus = set()\n",
    "new_corpus = []\n",
    "\n",
    "def filter_features(text):\n",
    "    tokens = word_tokenize(text)\n",
    "    tokens = pos_tag(tokens)\n",
    "    tokens = [word for word, pos in tokens if pos in ['NN']]\n",
    "    corpus.update(tokens)\n",
    "    new_corpus.extend(tokens)\n",
    "    res = \" \".join(tokens)\n",
    "    return res\n",
    "\n",
    "data['feature_text'] = data['cleaned_review'].apply(filter_features)\n",
    "print(list(corpus)[:10])"
   ]
  },
  {
   "cell_type": "code",
   "execution_count": null,
   "metadata": {
    "_cell_guid": "e68eac2c-d9f8-4fa8-a76f-de98d73a0e0f",
    "_uuid": "2e14e9f0f30a9b15d7cfee6b156a909ddc32598e"
   },
   "outputs": [],
   "source": [
    "print(len(list(corpus)))\n",
    "data['feature_text'].head()"
   ]
  },
  {
   "cell_type": "code",
   "execution_count": null,
   "metadata": {
    "_cell_guid": "1496f882-d592-4841-aba4-3458d7e0cae1",
    "_uuid": "8ae0bcee8f43036540e859351b810eeb25d6577b"
   },
   "outputs": [],
   "source": [
    "from collections import Counter\n",
    "features_cnt = Counter(new_corpus)\n",
    "common_features = features_cnt.most_common(50)\n",
    "print(common_features)"
   ]
  },
  {
   "cell_type": "code",
   "execution_count": null,
   "metadata": {
    "_cell_guid": "e52f3998-db14-48ee-b2d4-b3f6a8f736e2",
    "_uuid": "03c5e219da5840c9bb6c8a2295d4f16aa5b479c9"
   },
   "outputs": [],
   "source": [
    "sents_bool = np.array(data['sentiment']) >= 0\n",
    "print(len(sents_bool))\n",
    "print(sents_bool[:10])"
   ]
  },
  {
   "cell_type": "code",
   "execution_count": null,
   "metadata": {
    "_cell_guid": "dbeb2abf-c948-415f-834f-5301b8235288",
    "_uuid": "9c3b4bf173a7b3cbc5a27a10d94d7532438640ed"
   },
   "outputs": [],
   "source": [
    "sents_bool.mean()"
   ]
  },
  {
   "cell_type": "code",
   "execution_count": null,
   "metadata": {
    "_cell_guid": "cf2c640d-f947-4ab2-af21-465d9e403b27",
    "_uuid": "ba4fba1509ccb42e9603beac9ee0441d272b73bd"
   },
   "outputs": [],
   "source": [
    "common_features_ = [x for x,y in common_features]\n",
    "feat_dict = {}\n",
    "sents = data['sentiment']\n",
    "for idx, f in enumerate(common_features_):\n",
    "    lst2 = [list(ft.split()).count(f) for ft in data['feature_text']]\n",
    "    lst3 = []\n",
    "    for x,b in zip(lst2, sents_bool):\n",
    "        if b:\n",
    "            lst3.append(x)\n",
    "        else:\n",
    "            lst3.append(-x)\n",
    "    feat_dict[f] = lst3"
   ]
  },
  {
   "cell_type": "code",
   "execution_count": null,
   "metadata": {
    "_cell_guid": "dd30eb23-1bc7-4e2e-a758-12cdd044b73b",
    "_uuid": "dce44d564b80a760664ec6d417d1548b668efc4e"
   },
   "outputs": [],
   "source": [
    "feat_dict['asin'] = data['asin']\n",
    "feat_dict['title'] = data['title']"
   ]
  },
  {
   "cell_type": "code",
   "execution_count": null,
   "metadata": {},
   "outputs": [],
   "source": [
    "pd.DataFrame(feat_dict)"
   ]
  },
  {
   "cell_type": "code",
   "execution_count": null,
   "metadata": {},
   "outputs": [],
   "source": [
    "new_data = pd.DataFrame(feat_dict).iloc[:,:]\n",
    "new_data = new_data.sort_values('title', ascending=False)\n",
    "print(new_data.head())"
   ]
  },
  {
   "cell_type": "code",
   "execution_count": null,
   "metadata": {
    "_cell_guid": "2efc1e73-9f51-46e5-943e-7bf5b5fc3fc3",
    "_uuid": "10f36f05ae09cbf8592f8e2eac19901d39844b7a"
   },
   "outputs": [],
   "source": [
    "new_data2 = new_data.groupby('asin').sum()\n",
    "print(new_data2.head())\n",
    "#new_data = new_data.drop_duplicates(subset='asin', keep=\"last\")"
   ]
  },
  {
   "cell_type": "code",
   "execution_count": null,
   "metadata": {
    "_cell_guid": "86980840-0b6d-4e2c-a503-93fa3a2023f9",
    "_uuid": "24faa630bd06d7bf7e5800ffaec07dcb720e66d8"
   },
   "outputs": [],
   "source": [
    "#comment\n",
    "from sklearn.feature_extraction.text import CountVectorizer\n",
    "review_vectorizer = CountVectorizer()\n",
    "review_features   = review_vectorizer.fit_transform(data['feature_text'])\n",
    "review_features.get_shape()"
   ]
  },
  {
   "cell_type": "code",
   "execution_count": null,
   "metadata": {
    "_cell_guid": "0fdc7a67-8f18-4d39-b1ef-54ebf2a6ae65",
    "_uuid": "7c22e184f29a04f9fa03375a0b20bc8d86052687"
   },
   "outputs": [],
   "source": [
    "#comment\n",
    "print(review_features[1000])\n",
    "print(type(review_features))"
   ]
  },
  {
   "cell_type": "code",
   "execution_count": null,
   "metadata": {
    "_cell_guid": "7d981b71-04c8-41be-b1fb-f081648699a8",
    "_uuid": "dc8125428a861287ace8cd552e0ef2a5db015868"
   },
   "outputs": [],
   "source": [
    "new_data2.shape"
   ]
  },
  {
   "cell_type": "code",
   "execution_count": null,
   "metadata": {},
   "outputs": [],
   "source": [
    "new_data2.head(5)"
   ]
  },
  {
   "cell_type": "code",
   "execution_count": null,
   "metadata": {
    "_cell_guid": "af70a022-7def-4154-b29f-9371631e974a",
    "_uuid": "b088462f3418cecafa2faaf2fdb20d4c6f70533e"
   },
   "outputs": [],
   "source": [
    "new_data2.to_csv(\"output/final_features_data.csv\")"
   ]
  },
  {
   "cell_type": "code",
   "execution_count": null,
   "metadata": {
    "_cell_guid": "2b16831f-9ed4-4af7-8eae-a89046106300",
    "_uuid": "9ecbfc956da5699b79313be4f2f02266207ab5b9"
   },
   "outputs": [],
   "source": [
    "new_data2.columns"
   ]
  },
  {
   "cell_type": "code",
   "execution_count": null,
   "metadata": {},
   "outputs": [],
   "source": []
  }
 ],
 "metadata": {
  "kernelspec": {
   "display_name": "Python 3 (ipykernel)",
   "language": "python",
   "name": "python3"
  },
  "language_info": {
   "codemirror_mode": {
    "name": "ipython",
    "version": 3
   },
   "file_extension": ".py",
   "mimetype": "text/x-python",
   "name": "python",
   "nbconvert_exporter": "python",
   "pygments_lexer": "ipython3",
   "version": "3.9.13"
  }
 },
 "nbformat": 4,
 "nbformat_minor": 1
}
