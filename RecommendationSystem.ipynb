{
 "cells": [
  {
   "cell_type": "code",
   "execution_count": 1,
   "id": "4a06f42a",
   "metadata": {},
   "outputs": [],
   "source": [
    "import numpy as np\n",
    "import pandas as pd\n",
    "import matplotlib.pyplot as plt\n",
    "import seaborn as sns\n",
    "sns.set()\n",
    "import os"
   ]
  },
  {
   "cell_type": "code",
   "execution_count": 2,
   "id": "9d4332a2",
   "metadata": {},
   "outputs": [],
   "source": [
    "reviews = pd.read_csv('input/df_with_title2.csv')\n",
    "features = pd.read_csv('input/final_features_data.csv')"
   ]
  },
  {
   "cell_type": "code",
   "execution_count": 3,
   "id": "ef3c8cd5",
   "metadata": {},
   "outputs": [],
   "source": [
    "total = pd.merge(reviews, features, how = \"inner\", on = \"asin\")"
   ]
  },
  {
   "cell_type": "code",
   "execution_count": 4,
   "id": "a7b847e8",
   "metadata": {},
   "outputs": [
    {
     "name": "stdout",
     "output_type": "stream",
     "text": [
      "(22927, 10)\n",
      "Index(['asin', 'helpful', 'overall', 'reviewText', 'reviewTime', 'reviewerID',\n",
      "       'reviewerName', 'summary', 'unixReviewTime', 'title'],\n",
      "      dtype='object')\n"
     ]
    }
   ],
   "source": [
    "print(reviews.shape)\n",
    "print(reviews.columns)"
   ]
  },
  {
   "cell_type": "code",
   "execution_count": 5,
   "id": "aae24996",
   "metadata": {},
   "outputs": [
    {
     "name": "stdout",
     "output_type": "stream",
     "text": [
      "<class 'pandas.core.frame.DataFrame'>\n",
      "RangeIndex: 22927 entries, 0 to 22926\n",
      "Data columns (total 10 columns):\n",
      " #   Column          Non-Null Count  Dtype \n",
      "---  ------          --------------  ----- \n",
      " 0   asin            22927 non-null  object\n",
      " 1   helpful         22927 non-null  object\n",
      " 2   overall         22927 non-null  int64 \n",
      " 3   reviewText      22912 non-null  object\n",
      " 4   reviewTime      22927 non-null  object\n",
      " 5   reviewerID      22927 non-null  object\n",
      " 6   reviewerName    21941 non-null  object\n",
      " 7   summary         22926 non-null  object\n",
      " 8   unixReviewTime  22927 non-null  int64 \n",
      " 9   title           22927 non-null  object\n",
      "dtypes: int64(2), object(8)\n",
      "memory usage: 1.7+ MB\n"
     ]
    }
   ],
   "source": [
    "reviews.info()"
   ]
  },
  {
   "cell_type": "code",
   "execution_count": 6,
   "id": "f433eee3",
   "metadata": {},
   "outputs": [
    {
     "data": {
      "text/html": [
       "<div>\n",
       "<style scoped>\n",
       "    .dataframe tbody tr th:only-of-type {\n",
       "        vertical-align: middle;\n",
       "    }\n",
       "\n",
       "    .dataframe tbody tr th {\n",
       "        vertical-align: top;\n",
       "    }\n",
       "\n",
       "    .dataframe thead th {\n",
       "        text-align: right;\n",
       "    }\n",
       "</style>\n",
       "<table border=\"1\" class=\"dataframe\">\n",
       "  <thead>\n",
       "    <tr style=\"text-align: right;\">\n",
       "      <th></th>\n",
       "      <th>overall</th>\n",
       "      <th>unixReviewTime</th>\n",
       "    </tr>\n",
       "  </thead>\n",
       "  <tbody>\n",
       "    <tr>\n",
       "      <th>count</th>\n",
       "      <td>22927.000000</td>\n",
       "      <td>2.292700e+04</td>\n",
       "    </tr>\n",
       "    <tr>\n",
       "      <th>mean</th>\n",
       "      <td>4.087888</td>\n",
       "      <td>1.356391e+09</td>\n",
       "    </tr>\n",
       "    <tr>\n",
       "      <th>std</th>\n",
       "      <td>1.248639</td>\n",
       "      <td>3.599225e+07</td>\n",
       "    </tr>\n",
       "    <tr>\n",
       "      <th>min</th>\n",
       "      <td>1.000000</td>\n",
       "      <td>1.077149e+09</td>\n",
       "    </tr>\n",
       "    <tr>\n",
       "      <th>25%</th>\n",
       "      <td>4.000000</td>\n",
       "      <td>1.345162e+09</td>\n",
       "    </tr>\n",
       "    <tr>\n",
       "      <th>50%</th>\n",
       "      <td>5.000000</td>\n",
       "      <td>1.362096e+09</td>\n",
       "    </tr>\n",
       "    <tr>\n",
       "      <th>75%</th>\n",
       "      <td>5.000000</td>\n",
       "      <td>1.379117e+09</td>\n",
       "    </tr>\n",
       "    <tr>\n",
       "      <th>max</th>\n",
       "      <td>5.000000</td>\n",
       "      <td>1.406074e+09</td>\n",
       "    </tr>\n",
       "  </tbody>\n",
       "</table>\n",
       "</div>"
      ],
      "text/plain": [
       "            overall  unixReviewTime\n",
       "count  22927.000000    2.292700e+04\n",
       "mean       4.087888    1.356391e+09\n",
       "std        1.248639    3.599225e+07\n",
       "min        1.000000    1.077149e+09\n",
       "25%        4.000000    1.345162e+09\n",
       "50%        5.000000    1.362096e+09\n",
       "75%        5.000000    1.379117e+09\n",
       "max        5.000000    1.406074e+09"
      ]
     },
     "execution_count": 6,
     "metadata": {},
     "output_type": "execute_result"
    }
   ],
   "source": [
    "reviews.describe()"
   ]
  },
  {
   "cell_type": "markdown",
   "id": "818139a5",
   "metadata": {},
   "source": [
    "# TOP 10 PRODUCTS"
   ]
  },
  {
   "cell_type": "code",
   "execution_count": 7,
   "id": "046543ba",
   "metadata": {},
   "outputs": [
    {
     "data": {
      "text/html": [
       "<div>\n",
       "<style scoped>\n",
       "    .dataframe tbody tr th:only-of-type {\n",
       "        vertical-align: middle;\n",
       "    }\n",
       "\n",
       "    .dataframe tbody tr th {\n",
       "        vertical-align: top;\n",
       "    }\n",
       "\n",
       "    .dataframe thead th {\n",
       "        text-align: right;\n",
       "    }\n",
       "</style>\n",
       "<table border=\"1\" class=\"dataframe\">\n",
       "  <thead>\n",
       "    <tr style=\"text-align: right;\">\n",
       "      <th></th>\n",
       "      <th>mean</th>\n",
       "    </tr>\n",
       "    <tr>\n",
       "      <th>title</th>\n",
       "      <th></th>\n",
       "    </tr>\n",
       "  </thead>\n",
       "  <tbody>\n",
       "    <tr>\n",
       "      <th>i.Trek Super Mount Metal Smartphone Tripod Adapter and Stand - Retail Packaging - Yellow</th>\n",
       "      <td>5.0</td>\n",
       "    </tr>\n",
       "    <tr>\n",
       "      <th>Premium Soft Argyle Flexi TPU Gel Skin Case Cover for Samsung Fascinate, Clear Checkers</th>\n",
       "      <td>5.0</td>\n",
       "    </tr>\n",
       "    <tr>\n",
       "      <th>Samsung AT&amp;T INFUSE 4G SGH-i997 Battery Charger with Stand [ET-CGPK002GSTA] - Retail Packaging - Black</th>\n",
       "      <td>5.0</td>\n",
       "    </tr>\n",
       "    <tr>\n",
       "      <th>Black Leather Pouch Carrying Case w/Belt Clip and Loops for HTC Evo 4G, HD2, ...</th>\n",
       "      <td>5.0</td>\n",
       "    </tr>\n",
       "    <tr>\n",
       "      <th>Samsung ET-CGPK009GSTA Sprint SPH-D710 Battery Charger with Stand - Charger - Retail Packaging - Black</th>\n",
       "      <td>5.0</td>\n",
       "    </tr>\n",
       "    <tr>\n",
       "      <th>Belkin USB Charger + Sync / Charge Cable for Apple iPhone (Black)</th>\n",
       "      <td>5.0</td>\n",
       "    </tr>\n",
       "    <tr>\n",
       "      <th>Wilson Electronics 4-inch 4G Mini Magnet-Mount Antenna w/ SMA Male Connector</th>\n",
       "      <td>5.0</td>\n",
       "    </tr>\n",
       "    <tr>\n",
       "      <th>Ballistic SG Black Silicone, Black TPU, and Black PC for Samsung Nexus S and Samsung Nexus S 4G - 1 Pack - Case - Retail Packaging</th>\n",
       "      <td>5.0</td>\n",
       "    </tr>\n",
       "    <tr>\n",
       "      <th>RAVPower 3100mAh Li-ion Battery For Samsung Galaxy Note 2/II, GT-N7100, SCH-I605(Verizon), SCH-R950(U.S. Cellular), SGH-I317(AT&amp;T), SGH-T889(T-Mobile), SPH-L900(Sprint), fits Samsung EB595675LA</th>\n",
       "      <td>5.0</td>\n",
       "    </tr>\n",
       "    <tr>\n",
       "      <th>Motorola H385 Bluetooth Headset (Pink)</th>\n",
       "      <td>5.0</td>\n",
       "    </tr>\n",
       "  </tbody>\n",
       "</table>\n",
       "</div>"
      ],
      "text/plain": [
       "                                                    mean\n",
       "title                                                   \n",
       "i.Trek Super Mount Metal Smartphone Tripod Adap...   5.0\n",
       "Premium Soft Argyle Flexi TPU Gel Skin Case Cov...   5.0\n",
       "Samsung AT&T INFUSE 4G SGH-i997 Battery Charger...   5.0\n",
       "Black Leather Pouch Carrying Case w/Belt Clip a...   5.0\n",
       "Samsung ET-CGPK009GSTA Sprint SPH-D710 Battery ...   5.0\n",
       "Belkin USB Charger + Sync / Charge Cable for Ap...   5.0\n",
       "Wilson Electronics 4-inch 4G Mini Magnet-Mount ...   5.0\n",
       "Ballistic SG Black Silicone, Black TPU, and Bla...   5.0\n",
       "RAVPower 3100mAh Li-ion Battery For Samsung Gal...   5.0\n",
       "Motorola H385 Bluetooth Headset (Pink)               5.0"
      ]
     },
     "execution_count": 7,
     "metadata": {},
     "output_type": "execute_result"
    }
   ],
   "source": [
    "rating = reviews.groupby('title').describe()['overall']\n",
    "rating = rating.sort_values('mean', ascending = False)[['mean']]\n",
    "rating.head(10)"
   ]
  },
  {
   "cell_type": "markdown",
   "id": "57027efe",
   "metadata": {},
   "source": [
    "# MOST POPULAR PRODUCT"
   ]
  },
  {
   "cell_type": "code",
   "execution_count": 8,
   "id": "560fd69e",
   "metadata": {},
   "outputs": [
    {
     "data": {
      "text/plain": [
       "[('iPhone 4 / 4S Anti-Glare, Anti-Scratch, Anti-Fingerprint - Matte Finishing Screen Protector',\n",
       "  694),\n",
       " ('iOttie  Easy One Touch Car Mount Holder for iPhoneX 8 7s 6s Plus 6s 5s 5c Samsung Galaxy S9 S8 Edge S7 S6',\n",
       "  557),\n",
       " ('Galaxy S3 Case, Caseology [Daybreak Series] Slim Fit Shock Absorbent Cover [Pink] [Slip Resistant] for Samsung Galaxy S3 - Pink',\n",
       "  510),\n",
       " ('Stylus Pen, New Trent Arcadia (1PC) Limir [Dual Purpose] Stylus/Styli for Capacitive Touch Screen Smartphones and Tablets. [2-in-1: Stylus Micro-Knit Tip + Fine Ball Pen]',\n",
       "  348),\n",
       " ('External Battery, New Trent iCarrier 12000mAh Portable Dual USB Port External Battery Charger/Power Pack for Smartphones, iPhone 6, Iphone 6 Plus, S5, Nexus 6, Note 4, Tablets, iPad Air 2, iPad mini 3, and more (Now w/Micro-USB charge port)',\n",
       "  339),\n",
       " ('iPhone 4 Screen Protector, Tech Armor High Definition HD-Clear Apple iPhone 4 / 4S Film Screen Protector [3-Pack]',\n",
       "  325),\n",
       " ('New Trent: iTorch 5200mAh Ultra Portable USB Port External Battery Charger/Power Pack for Smartphones and more (w/built-in laser + flashlight)',\n",
       "  302),\n",
       " ('Carrying Case for iPhone 4 - Non-Retail Packaging - Pink', 213),\n",
       " ('Fosmon Apple MFI Certified [30 Pin] USB Sync and Charging Cable for iPhone 4 / 4S, iPhone 3G / 3GS, iPad 1 / 2 / 3, iPod nano 5th / 6th generations and iPod Touch 3rd / 4th generations - 6ft (White)',\n",
       "  198),\n",
       " ('Front and Back Reusable Screen Protector for Apple iPhone 4 (3 pack)', 184)]"
      ]
     },
     "execution_count": 8,
     "metadata": {},
     "output_type": "execute_result"
    }
   ],
   "source": [
    "from collections import Counter\n",
    "productTypeCount = Counter(list(reviews['title']))\n",
    "productTypeCount.most_common(10)"
   ]
  },
  {
   "cell_type": "markdown",
   "id": "31fbb90a",
   "metadata": {},
   "source": [
    "# RECOMMENDATION SYSTEM"
   ]
  },
  {
   "cell_type": "code",
   "execution_count": 9,
   "id": "4985cd2d",
   "metadata": {},
   "outputs": [],
   "source": [
    "from sklearn.feature_extraction.text import CountVectorizer\n",
    "from sklearn.feature_extraction.text import TfidfVectorizer\n",
    "from sklearn.metrics.pairwise import cosine_similarity\n",
    "from sklearn.metrics import pairwise_distances\n",
    "from matplotlib import gridspec\n",
    "from scipy.sparse import hstack"
   ]
  },
  {
   "cell_type": "code",
   "execution_count": 10,
   "id": "a35f3e94",
   "metadata": {},
   "outputs": [],
   "source": [
    "reviewsCopy = reviews.copy()\n",
    "reviewsSorted = reviews.sort_values('title', ascending = False)"
   ]
  },
  {
   "cell_type": "code",
   "execution_count": 11,
   "id": "c495c8d6",
   "metadata": {},
   "outputs": [
    {
     "data": {
      "text/html": [
       "<div>\n",
       "<style scoped>\n",
       "    .dataframe tbody tr th:only-of-type {\n",
       "        vertical-align: middle;\n",
       "    }\n",
       "\n",
       "    .dataframe tbody tr th {\n",
       "        vertical-align: top;\n",
       "    }\n",
       "\n",
       "    .dataframe thead th {\n",
       "        text-align: right;\n",
       "    }\n",
       "</style>\n",
       "<table border=\"1\" class=\"dataframe\">\n",
       "  <thead>\n",
       "    <tr style=\"text-align: right;\">\n",
       "      <th></th>\n",
       "      <th>asin</th>\n",
       "      <th>helpful</th>\n",
       "      <th>overall</th>\n",
       "      <th>reviewText</th>\n",
       "      <th>reviewTime</th>\n",
       "      <th>reviewerID</th>\n",
       "      <th>reviewerName</th>\n",
       "      <th>summary</th>\n",
       "      <th>unixReviewTime</th>\n",
       "      <th>title</th>\n",
       "    </tr>\n",
       "  </thead>\n",
       "  <tbody>\n",
       "    <tr>\n",
       "      <th>3612</th>\n",
       "      <td>B003U4TLL2</td>\n",
       "      <td>[0, 0]</td>\n",
       "      <td>1</td>\n",
       "      <td>second try with these, same result for my setu...</td>\n",
       "      <td>07 8, 2013</td>\n",
       "      <td>A2HP63L85NI0CC</td>\n",
       "      <td>Greg Fridder \"Fridder\"</td>\n",
       "      <td>2nd try same result, no workie</td>\n",
       "      <td>1373241600</td>\n",
       "      <td>zBoost ZB545 SOHO Dual Band Cell Phone Signal ...</td>\n",
       "    </tr>\n",
       "    <tr>\n",
       "      <th>3605</th>\n",
       "      <td>B003U4TLL2</td>\n",
       "      <td>[5, 6]</td>\n",
       "      <td>2</td>\n",
       "      <td>I cant say I am completely unhappy with this d...</td>\n",
       "      <td>03 23, 2012</td>\n",
       "      <td>A2IKMRNKQ12ZPT</td>\n",
       "      <td>Amazon.Buyer \"Never argue with an 1d10t...the...</td>\n",
       "      <td>The Boost in the name and description is misle...</td>\n",
       "      <td>1332460800</td>\n",
       "      <td>zBoost ZB545 SOHO Dual Band Cell Phone Signal ...</td>\n",
       "    </tr>\n",
       "    <tr>\n",
       "      <th>3938</th>\n",
       "      <td>B003VOW5WI</td>\n",
       "      <td>[0, 1]</td>\n",
       "      <td>1</td>\n",
       "      <td>Doesn't works, I have the same problem, no pho...</td>\n",
       "      <td>07 13, 2014</td>\n",
       "      <td>A2Y8WWR06KCIUZ</td>\n",
       "      <td>Ezio</td>\n",
       "      <td>no recommended</td>\n",
       "      <td>1405209600</td>\n",
       "      <td>zBoost ZB545 SOHO Dual Band Cell Phone Signal ...</td>\n",
       "    </tr>\n",
       "    <tr>\n",
       "      <th>3937</th>\n",
       "      <td>B003VOW5WI</td>\n",
       "      <td>[1, 1]</td>\n",
       "      <td>4</td>\n",
       "      <td>this booster...in a word...works!It does what ...</td>\n",
       "      <td>03 31, 2013</td>\n",
       "      <td>ADZNLCXNYH3FN</td>\n",
       "      <td>Dwight Howard \"dahoward77\"</td>\n",
       "      <td>To extend in weak cell areas</td>\n",
       "      <td>1364688000</td>\n",
       "      <td>zBoost ZB545 SOHO Dual Band Cell Phone Signal ...</td>\n",
       "    </tr>\n",
       "    <tr>\n",
       "      <th>3936</th>\n",
       "      <td>B003VOW5WI</td>\n",
       "      <td>[1, 1]</td>\n",
       "      <td>5</td>\n",
       "      <td>I am a freak at insulating my home.  Aluminum ...</td>\n",
       "      <td>07 9, 2013</td>\n",
       "      <td>AQCA8WBO82VQH</td>\n",
       "      <td>Duncan Cunningham</td>\n",
       "      <td>It works - If only for up to 3G</td>\n",
       "      <td>1373328000</td>\n",
       "      <td>zBoost ZB545 SOHO Dual Band Cell Phone Signal ...</td>\n",
       "    </tr>\n",
       "    <tr>\n",
       "      <th>3935</th>\n",
       "      <td>B003VOW5WI</td>\n",
       "      <td>[848, 866]</td>\n",
       "      <td>5</td>\n",
       "      <td>This review ran a bit longer than I expected, ...</td>\n",
       "      <td>10 2, 2010</td>\n",
       "      <td>ATFBVUXDIRXT6</td>\n",
       "      <td>D. Matheny</td>\n",
       "      <td>Perfect 5-bar solution when installed correctly!</td>\n",
       "      <td>1285977600</td>\n",
       "      <td>zBoost ZB545 SOHO Dual Band Cell Phone Signal ...</td>\n",
       "    </tr>\n",
       "    <tr>\n",
       "      <th>3934</th>\n",
       "      <td>B003VOW5WI</td>\n",
       "      <td>[1, 1]</td>\n",
       "      <td>1</td>\n",
       "      <td>tried this piece of junk at three different si...</td>\n",
       "      <td>02 14, 2013</td>\n",
       "      <td>A3SMOIJ8TF3V4U</td>\n",
       "      <td>dirkjal</td>\n",
       "      <td>total unadulterated crap</td>\n",
       "      <td>1360800000</td>\n",
       "      <td>zBoost ZB545 SOHO Dual Band Cell Phone Signal ...</td>\n",
       "    </tr>\n",
       "    <tr>\n",
       "      <th>3933</th>\n",
       "      <td>B003VOW5WI</td>\n",
       "      <td>[2, 2]</td>\n",
       "      <td>5</td>\n",
       "      <td>Something you might want to do is have a high ...</td>\n",
       "      <td>01 8, 2014</td>\n",
       "      <td>A2UFJUXRBBZ8UU</td>\n",
       "      <td>David Sandbeck \"hallgrd\"</td>\n",
       "      <td>This works, as a plug and play solution for po...</td>\n",
       "      <td>1389139200</td>\n",
       "      <td>zBoost ZB545 SOHO Dual Band Cell Phone Signal ...</td>\n",
       "    </tr>\n",
       "    <tr>\n",
       "      <th>3932</th>\n",
       "      <td>B003VOW5WI</td>\n",
       "      <td>[1, 1]</td>\n",
       "      <td>5</td>\n",
       "      <td>Put the external antenna in the attic, ran the...</td>\n",
       "      <td>07 23, 2013</td>\n",
       "      <td>AZDKXWAE79HJ9</td>\n",
       "      <td>C. Ray \"GaDisciple\"</td>\n",
       "      <td>Perfect Solution</td>\n",
       "      <td>1374537600</td>\n",
       "      <td>zBoost ZB545 SOHO Dual Band Cell Phone Signal ...</td>\n",
       "    </tr>\n",
       "    <tr>\n",
       "      <th>3931</th>\n",
       "      <td>B003VOW5WI</td>\n",
       "      <td>[0, 0]</td>\n",
       "      <td>3</td>\n",
       "      <td>The product does seem to increase the availabl...</td>\n",
       "      <td>09 18, 2011</td>\n",
       "      <td>A8JP7MZH2S3X3</td>\n",
       "      <td>cardton</td>\n",
       "      <td>works ok but if you have sprint...</td>\n",
       "      <td>1316304000</td>\n",
       "      <td>zBoost ZB545 SOHO Dual Band Cell Phone Signal ...</td>\n",
       "    </tr>\n",
       "  </tbody>\n",
       "</table>\n",
       "</div>"
      ],
      "text/plain": [
       "            asin     helpful  overall  \\\n",
       "3612  B003U4TLL2      [0, 0]        1   \n",
       "3605  B003U4TLL2      [5, 6]        2   \n",
       "3938  B003VOW5WI      [0, 1]        1   \n",
       "3937  B003VOW5WI      [1, 1]        4   \n",
       "3936  B003VOW5WI      [1, 1]        5   \n",
       "3935  B003VOW5WI  [848, 866]        5   \n",
       "3934  B003VOW5WI      [1, 1]        1   \n",
       "3933  B003VOW5WI      [2, 2]        5   \n",
       "3932  B003VOW5WI      [1, 1]        5   \n",
       "3931  B003VOW5WI      [0, 0]        3   \n",
       "\n",
       "                                             reviewText   reviewTime  \\\n",
       "3612  second try with these, same result for my setu...   07 8, 2013   \n",
       "3605  I cant say I am completely unhappy with this d...  03 23, 2012   \n",
       "3938  Doesn't works, I have the same problem, no pho...  07 13, 2014   \n",
       "3937  this booster...in a word...works!It does what ...  03 31, 2013   \n",
       "3936  I am a freak at insulating my home.  Aluminum ...   07 9, 2013   \n",
       "3935  This review ran a bit longer than I expected, ...   10 2, 2010   \n",
       "3934  tried this piece of junk at three different si...  02 14, 2013   \n",
       "3933  Something you might want to do is have a high ...   01 8, 2014   \n",
       "3932  Put the external antenna in the attic, ran the...  07 23, 2013   \n",
       "3931  The product does seem to increase the availabl...  09 18, 2011   \n",
       "\n",
       "          reviewerID                                      reviewerName  \\\n",
       "3612  A2HP63L85NI0CC                            Greg Fridder \"Fridder\"   \n",
       "3605  A2IKMRNKQ12ZPT  Amazon.Buyer \"Never argue with an 1d10t...the...   \n",
       "3938  A2Y8WWR06KCIUZ                                              Ezio   \n",
       "3937   ADZNLCXNYH3FN                        Dwight Howard \"dahoward77\"   \n",
       "3936   AQCA8WBO82VQH                                 Duncan Cunningham   \n",
       "3935   ATFBVUXDIRXT6                                        D. Matheny   \n",
       "3934  A3SMOIJ8TF3V4U                                           dirkjal   \n",
       "3933  A2UFJUXRBBZ8UU                          David Sandbeck \"hallgrd\"   \n",
       "3932   AZDKXWAE79HJ9                               C. Ray \"GaDisciple\"   \n",
       "3931   A8JP7MZH2S3X3                                           cardton   \n",
       "\n",
       "                                                summary  unixReviewTime  \\\n",
       "3612                     2nd try same result, no workie      1373241600   \n",
       "3605  The Boost in the name and description is misle...      1332460800   \n",
       "3938                                     no recommended      1405209600   \n",
       "3937                       To extend in weak cell areas      1364688000   \n",
       "3936                    It works - If only for up to 3G      1373328000   \n",
       "3935   Perfect 5-bar solution when installed correctly!      1285977600   \n",
       "3934                           total unadulterated crap      1360800000   \n",
       "3933  This works, as a plug and play solution for po...      1389139200   \n",
       "3932                                   Perfect Solution      1374537600   \n",
       "3931                 works ok but if you have sprint...      1316304000   \n",
       "\n",
       "                                                  title  \n",
       "3612  zBoost ZB545 SOHO Dual Band Cell Phone Signal ...  \n",
       "3605  zBoost ZB545 SOHO Dual Band Cell Phone Signal ...  \n",
       "3938  zBoost ZB545 SOHO Dual Band Cell Phone Signal ...  \n",
       "3937  zBoost ZB545 SOHO Dual Band Cell Phone Signal ...  \n",
       "3936  zBoost ZB545 SOHO Dual Band Cell Phone Signal ...  \n",
       "3935  zBoost ZB545 SOHO Dual Band Cell Phone Signal ...  \n",
       "3934  zBoost ZB545 SOHO Dual Band Cell Phone Signal ...  \n",
       "3933  zBoost ZB545 SOHO Dual Band Cell Phone Signal ...  \n",
       "3932  zBoost ZB545 SOHO Dual Band Cell Phone Signal ...  \n",
       "3931  zBoost ZB545 SOHO Dual Band Cell Phone Signal ...  "
      ]
     },
     "execution_count": 11,
     "metadata": {},
     "output_type": "execute_result"
    }
   ],
   "source": [
    "reviewsSorted.head(10)"
   ]
  },
  {
   "cell_type": "code",
   "execution_count": 12,
   "id": "e198950d",
   "metadata": {},
   "outputs": [],
   "source": [
    "reviewsUnique = reviewsSorted.drop_duplicates(subset = 'asin', keep = \"last\")"
   ]
  },
  {
   "cell_type": "code",
   "execution_count": 13,
   "id": "b9513ce8",
   "metadata": {},
   "outputs": [
    {
     "name": "stdout",
     "output_type": "stream",
     "text": [
      "(1184, 10)\n"
     ]
    },
    {
     "data": {
      "text/html": [
       "<div>\n",
       "<style scoped>\n",
       "    .dataframe tbody tr th:only-of-type {\n",
       "        vertical-align: middle;\n",
       "    }\n",
       "\n",
       "    .dataframe tbody tr th {\n",
       "        vertical-align: top;\n",
       "    }\n",
       "\n",
       "    .dataframe thead th {\n",
       "        text-align: right;\n",
       "    }\n",
       "</style>\n",
       "<table border=\"1\" class=\"dataframe\">\n",
       "  <thead>\n",
       "    <tr style=\"text-align: right;\">\n",
       "      <th></th>\n",
       "      <th>asin</th>\n",
       "      <th>helpful</th>\n",
       "      <th>overall</th>\n",
       "      <th>reviewText</th>\n",
       "      <th>reviewTime</th>\n",
       "      <th>reviewerID</th>\n",
       "      <th>reviewerName</th>\n",
       "      <th>summary</th>\n",
       "      <th>unixReviewTime</th>\n",
       "      <th>title</th>\n",
       "    </tr>\n",
       "  </thead>\n",
       "  <tbody>\n",
       "    <tr>\n",
       "      <th>3943</th>\n",
       "      <td>B003VOW5WI</td>\n",
       "      <td>[0, 0]</td>\n",
       "      <td>5</td>\n",
       "      <td>WOW!!! Works great. Put it up on the roof. Pro...</td>\n",
       "      <td>12 20, 2011</td>\n",
       "      <td>A3B4TRVL7JYHHD</td>\n",
       "      <td>Lious Friend \"Credo ut intelligam\"</td>\n",
       "      <td>Great cell phone booster!</td>\n",
       "      <td>1324339200</td>\n",
       "      <td>zBoost ZB545 SOHO Dual Band Cell Phone Signal ...</td>\n",
       "    </tr>\n",
       "    <tr>\n",
       "      <th>3606</th>\n",
       "      <td>B003U4TLL2</td>\n",
       "      <td>[0, 0]</td>\n",
       "      <td>4</td>\n",
       "      <td>Works as advertised, suction cups kind of chee...</td>\n",
       "      <td>09 19, 2013</td>\n",
       "      <td>A1MASW50Z8DVXH</td>\n",
       "      <td>ArvadaDude</td>\n",
       "      <td>Wireless extender</td>\n",
       "      <td>1379548800</td>\n",
       "      <td>zBoost ZB545 SOHO Dual Band Cell Phone Signal ...</td>\n",
       "    </tr>\n",
       "    <tr>\n",
       "      <th>7631</th>\n",
       "      <td>B0048IZL5E</td>\n",
       "      <td>[0, 0]</td>\n",
       "      <td>4</td>\n",
       "      <td>Surprisingly snug on the sides for the touch. ...</td>\n",
       "      <td>05 15, 2014</td>\n",
       "      <td>AXO4PQU0XG3TG</td>\n",
       "      <td>Dwight</td>\n",
       "      <td>Fits iPod touch with some headroom</td>\n",
       "      <td>1400112000</td>\n",
       "      <td>uNu Power DX PLUS External Protective Battery ...</td>\n",
       "    </tr>\n",
       "    <tr>\n",
       "      <th>15534</th>\n",
       "      <td>B006R94O7I</td>\n",
       "      <td>[1, 1]</td>\n",
       "      <td>4</td>\n",
       "      <td>These aren't too bad, love the matte back prot...</td>\n",
       "      <td>01 30, 2012</td>\n",
       "      <td>A17K8TKHWF8MWZ</td>\n",
       "      <td>CheetahTrans</td>\n",
       "      <td>Nice screen protectors</td>\n",
       "      <td>1327881600</td>\n",
       "      <td>splash MASQUE Screen Protector Film Clear (Inv...</td>\n",
       "    </tr>\n",
       "    <tr>\n",
       "      <th>15729</th>\n",
       "      <td>B006UYDCI2</td>\n",
       "      <td>[0, 0]</td>\n",
       "      <td>5</td>\n",
       "      <td>This came in early and exactly like the pictur...</td>\n",
       "      <td>05 12, 2013</td>\n",
       "      <td>A3A61D0Z02NW8</td>\n",
       "      <td>Baines</td>\n",
       "      <td>What you see is what you get!</td>\n",
       "      <td>1368316800</td>\n",
       "      <td>niceeshop(TM) White 3D Bling Crystals Rhinesto...</td>\n",
       "    </tr>\n",
       "    <tr>\n",
       "      <th>18623</th>\n",
       "      <td>B007SRWDUI</td>\n",
       "      <td>[0, 0]</td>\n",
       "      <td>5</td>\n",
       "      <td>The color is a tad greener than the photo yet ...</td>\n",
       "      <td>03 4, 2013</td>\n",
       "      <td>A1S67AHQEO3U13</td>\n",
       "      <td>Victoria</td>\n",
       "      <td>Green Polka Dot Gel Case Iphone 4</td>\n",
       "      <td>1362355200</td>\n",
       "      <td>niceeshop Green&amp;White HM Polka Dots Gel Flexib...</td>\n",
       "    </tr>\n",
       "    <tr>\n",
       "      <th>8554</th>\n",
       "      <td>B004GJMTHS</td>\n",
       "      <td>[0, 0]</td>\n",
       "      <td>5</td>\n",
       "      <td>Very pretty color.  Easy to put on.  Took a ve...</td>\n",
       "      <td>12 4, 2012</td>\n",
       "      <td>A2YQF017D4AO0S</td>\n",
       "      <td>Dorothy Ebacher</td>\n",
       "      <td>purple case</td>\n",
       "      <td>1354579200</td>\n",
       "      <td>niceEshop(TM) TPU Rubber Skin Case Compatible ...</td>\n",
       "    </tr>\n",
       "    <tr>\n",
       "      <th>14585</th>\n",
       "      <td>B006FCO0NU</td>\n",
       "      <td>[0, 0]</td>\n",
       "      <td>3</td>\n",
       "      <td>Good case for it being cheap, but you can defi...</td>\n",
       "      <td>01 17, 2013</td>\n",
       "      <td>A1T14MCUQEN8KF</td>\n",
       "      <td>Andrew J. Rectenwald \"arecten\"</td>\n",
       "      <td>It's okay</td>\n",
       "      <td>1358380800</td>\n",
       "      <td>niceEshop Snap-on Rubber Coated Case compatibl...</td>\n",
       "    </tr>\n",
       "    <tr>\n",
       "      <th>4373</th>\n",
       "      <td>B003XNGY2Y</td>\n",
       "      <td>[1, 1]</td>\n",
       "      <td>3</td>\n",
       "      <td>The reviewers that said that this is not a ver...</td>\n",
       "      <td>01 17, 2011</td>\n",
       "      <td>A2XK8WOE7ZP52G</td>\n",
       "      <td>D. Jenkins \"Jinkx\"</td>\n",
       "      <td>Must agree with previous reviewers</td>\n",
       "      <td>1295222400</td>\n",
       "      <td>niceEshop Premium Soft Silicone Gel Skin Case ...</td>\n",
       "    </tr>\n",
       "    <tr>\n",
       "      <th>18051</th>\n",
       "      <td>B007OBVFRU</td>\n",
       "      <td>[0, 0]</td>\n",
       "      <td>3</td>\n",
       "      <td>Although this case was inexpensive, I would ex...</td>\n",
       "      <td>01 16, 2014</td>\n",
       "      <td>A3D27FSC1OZPN</td>\n",
       "      <td>Kajialee</td>\n",
       "      <td>Not what I expected....</td>\n",
       "      <td>1389830400</td>\n",
       "      <td>niceEshop Brown Wallet Style Carbon Fiber Prin...</td>\n",
       "    </tr>\n",
       "  </tbody>\n",
       "</table>\n",
       "</div>"
      ],
      "text/plain": [
       "             asin helpful  overall  \\\n",
       "3943   B003VOW5WI  [0, 0]        5   \n",
       "3606   B003U4TLL2  [0, 0]        4   \n",
       "7631   B0048IZL5E  [0, 0]        4   \n",
       "15534  B006R94O7I  [1, 1]        4   \n",
       "15729  B006UYDCI2  [0, 0]        5   \n",
       "18623  B007SRWDUI  [0, 0]        5   \n",
       "8554   B004GJMTHS  [0, 0]        5   \n",
       "14585  B006FCO0NU  [0, 0]        3   \n",
       "4373   B003XNGY2Y  [1, 1]        3   \n",
       "18051  B007OBVFRU  [0, 0]        3   \n",
       "\n",
       "                                              reviewText   reviewTime  \\\n",
       "3943   WOW!!! Works great. Put it up on the roof. Pro...  12 20, 2011   \n",
       "3606   Works as advertised, suction cups kind of chee...  09 19, 2013   \n",
       "7631   Surprisingly snug on the sides for the touch. ...  05 15, 2014   \n",
       "15534  These aren't too bad, love the matte back prot...  01 30, 2012   \n",
       "15729  This came in early and exactly like the pictur...  05 12, 2013   \n",
       "18623  The color is a tad greener than the photo yet ...   03 4, 2013   \n",
       "8554   Very pretty color.  Easy to put on.  Took a ve...   12 4, 2012   \n",
       "14585  Good case for it being cheap, but you can defi...  01 17, 2013   \n",
       "4373   The reviewers that said that this is not a ver...  01 17, 2011   \n",
       "18051  Although this case was inexpensive, I would ex...  01 16, 2014   \n",
       "\n",
       "           reviewerID                        reviewerName  \\\n",
       "3943   A3B4TRVL7JYHHD  Lious Friend \"Credo ut intelligam\"   \n",
       "3606   A1MASW50Z8DVXH                          ArvadaDude   \n",
       "7631    AXO4PQU0XG3TG                              Dwight   \n",
       "15534  A17K8TKHWF8MWZ                        CheetahTrans   \n",
       "15729   A3A61D0Z02NW8                              Baines   \n",
       "18623  A1S67AHQEO3U13                            Victoria   \n",
       "8554   A2YQF017D4AO0S                     Dorothy Ebacher   \n",
       "14585  A1T14MCUQEN8KF      Andrew J. Rectenwald \"arecten\"   \n",
       "4373   A2XK8WOE7ZP52G                  D. Jenkins \"Jinkx\"   \n",
       "18051   A3D27FSC1OZPN                            Kajialee   \n",
       "\n",
       "                                  summary  unixReviewTime  \\\n",
       "3943            Great cell phone booster!      1324339200   \n",
       "3606                    Wireless extender      1379548800   \n",
       "7631   Fits iPod touch with some headroom      1400112000   \n",
       "15534              Nice screen protectors      1327881600   \n",
       "15729       What you see is what you get!      1368316800   \n",
       "18623   Green Polka Dot Gel Case Iphone 4      1362355200   \n",
       "8554                          purple case      1354579200   \n",
       "14585                           It's okay      1358380800   \n",
       "4373   Must agree with previous reviewers      1295222400   \n",
       "18051             Not what I expected....      1389830400   \n",
       "\n",
       "                                                   title  \n",
       "3943   zBoost ZB545 SOHO Dual Band Cell Phone Signal ...  \n",
       "3606   zBoost ZB545 SOHO Dual Band Cell Phone Signal ...  \n",
       "7631   uNu Power DX PLUS External Protective Battery ...  \n",
       "15534  splash MASQUE Screen Protector Film Clear (Inv...  \n",
       "15729  niceeshop(TM) White 3D Bling Crystals Rhinesto...  \n",
       "18623  niceeshop Green&White HM Polka Dots Gel Flexib...  \n",
       "8554   niceEshop(TM) TPU Rubber Skin Case Compatible ...  \n",
       "14585  niceEshop Snap-on Rubber Coated Case compatibl...  \n",
       "4373   niceEshop Premium Soft Silicone Gel Skin Case ...  \n",
       "18051  niceEshop Brown Wallet Style Carbon Fiber Prin...  "
      ]
     },
     "execution_count": 13,
     "metadata": {},
     "output_type": "execute_result"
    }
   ],
   "source": [
    "print(reviewsUnique.shape)\n",
    "reviewsUnique.head(10)"
   ]
  },
  {
   "cell_type": "code",
   "execution_count": 14,
   "id": "e5dc0b28",
   "metadata": {},
   "outputs": [
    {
     "name": "stdout",
     "output_type": "stream",
     "text": [
      "Requirement already satisfied: nltk in c:\\users\\user2\\anaconda3\\lib\\site-packages (3.7)\n",
      "Requirement already satisfied: regex>=2021.8.3 in c:\\users\\user2\\anaconda3\\lib\\site-packages (from nltk) (2022.7.9)\n",
      "Requirement already satisfied: tqdm in c:\\users\\user2\\anaconda3\\lib\\site-packages (from nltk) (4.64.1)\n",
      "Requirement already satisfied: joblib in c:\\users\\user2\\anaconda3\\lib\\site-packages (from nltk) (1.1.0)\n",
      "Requirement already satisfied: click in c:\\users\\user2\\anaconda3\\lib\\site-packages (from nltk) (8.0.4)\n",
      "Requirement already satisfied: colorama in c:\\users\\user2\\anaconda3\\lib\\site-packages (from click->nltk) (0.4.5)\n",
      "Note: you may need to restart the kernel to use updated packages.\n"
     ]
    }
   ],
   "source": [
    "pip install nltk"
   ]
  },
  {
   "cell_type": "code",
   "execution_count": 15,
   "id": "7ed0d86c",
   "metadata": {},
   "outputs": [],
   "source": [
    "from nltk.corpus import stopwords\n",
    "from nltk.tokenize import word_tokenize\n",
    "import nltk"
   ]
  },
  {
   "cell_type": "code",
   "execution_count": 18,
   "id": "ecacde3e",
   "metadata": {},
   "outputs": [
    {
     "name": "stderr",
     "output_type": "stream",
     "text": [
      "[nltk_data] Error loading punkt: <urlopen error [WinError 10060] A\n",
      "[nltk_data]     connection attempt failed because the connected party\n",
      "[nltk_data]     did not properly respond after a period of time, or\n",
      "[nltk_data]     established connection failed because connected host\n",
      "[nltk_data]     has failed to respond>\n"
     ]
    },
    {
     "data": {
      "text/plain": [
       "False"
      ]
     },
     "execution_count": 18,
     "metadata": {},
     "output_type": "execute_result"
    }
   ],
   "source": [
    "nltk.download('punkt')"
   ]
  },
  {
   "cell_type": "code",
   "execution_count": 19,
   "id": "a321fa8b",
   "metadata": {},
   "outputs": [
    {
     "name": "stderr",
     "output_type": "stream",
     "text": [
      "[nltk_data] Error loading all: <urlopen error [WinError 10060] A\n",
      "[nltk_data]     connection attempt failed because the connected party\n",
      "[nltk_data]     did not properly respond after a period of time, or\n",
      "[nltk_data]     established connection failed because connected host\n",
      "[nltk_data]     has failed to respond>\n"
     ]
    },
    {
     "data": {
      "text/plain": [
       "False"
      ]
     },
     "execution_count": 19,
     "metadata": {},
     "output_type": "execute_result"
    }
   ],
   "source": [
    "nltk.download('all')"
   ]
  },
  {
   "cell_type": "code",
   "execution_count": 20,
   "id": "fd0a2a5a",
   "metadata": {},
   "outputs": [
    {
     "ename": "LookupError",
     "evalue": "\n**********************************************************************\n  Resource \u001b[93mstopwords\u001b[0m not found.\n  Please use the NLTK Downloader to obtain the resource:\n\n  \u001b[31m>>> import nltk\n  >>> nltk.download('stopwords')\n  \u001b[0m\n  For more information see: https://www.nltk.org/data.html\n\n  Attempted to load \u001b[93mcorpora/stopwords\u001b[0m\n\n  Searched in:\n    - 'C:\\\\Users\\\\user2/nltk_data'\n    - 'C:\\\\Users\\\\user2\\\\anaconda3\\\\nltk_data'\n    - 'C:\\\\Users\\\\user2\\\\anaconda3\\\\share\\\\nltk_data'\n    - 'C:\\\\Users\\\\user2\\\\anaconda3\\\\lib\\\\nltk_data'\n    - 'C:\\\\Users\\\\user2\\\\AppData\\\\Roaming\\\\nltk_data'\n    - 'C:\\\\nltk_data'\n    - 'D:\\\\nltk_data'\n    - 'E:\\\\nltk_data'\n**********************************************************************\n",
     "output_type": "error",
     "traceback": [
      "\u001b[1;31m---------------------------------------------------------------------------\u001b[0m",
      "\u001b[1;31mLookupError\u001b[0m                               Traceback (most recent call last)",
      "\u001b[1;32m~\\anaconda3\\lib\\site-packages\\nltk\\corpus\\util.py\u001b[0m in \u001b[0;36m__load\u001b[1;34m(self)\u001b[0m\n\u001b[0;32m     83\u001b[0m                 \u001b[1;32mtry\u001b[0m\u001b[1;33m:\u001b[0m\u001b[1;33m\u001b[0m\u001b[1;33m\u001b[0m\u001b[0m\n\u001b[1;32m---> 84\u001b[1;33m                     \u001b[0mroot\u001b[0m \u001b[1;33m=\u001b[0m \u001b[0mnltk\u001b[0m\u001b[1;33m.\u001b[0m\u001b[0mdata\u001b[0m\u001b[1;33m.\u001b[0m\u001b[0mfind\u001b[0m\u001b[1;33m(\u001b[0m\u001b[1;34mf\"{self.subdir}/{zip_name}\"\u001b[0m\u001b[1;33m)\u001b[0m\u001b[1;33m\u001b[0m\u001b[1;33m\u001b[0m\u001b[0m\n\u001b[0m\u001b[0;32m     85\u001b[0m                 \u001b[1;32mexcept\u001b[0m \u001b[0mLookupError\u001b[0m\u001b[1;33m:\u001b[0m\u001b[1;33m\u001b[0m\u001b[1;33m\u001b[0m\u001b[0m\n",
      "\u001b[1;32m~\\anaconda3\\lib\\site-packages\\nltk\\data.py\u001b[0m in \u001b[0;36mfind\u001b[1;34m(resource_name, paths)\u001b[0m\n\u001b[0;32m    582\u001b[0m     \u001b[0mresource_not_found\u001b[0m \u001b[1;33m=\u001b[0m \u001b[1;34mf\"\\n{sep}\\n{msg}\\n{sep}\\n\"\u001b[0m\u001b[1;33m\u001b[0m\u001b[1;33m\u001b[0m\u001b[0m\n\u001b[1;32m--> 583\u001b[1;33m     \u001b[1;32mraise\u001b[0m \u001b[0mLookupError\u001b[0m\u001b[1;33m(\u001b[0m\u001b[0mresource_not_found\u001b[0m\u001b[1;33m)\u001b[0m\u001b[1;33m\u001b[0m\u001b[1;33m\u001b[0m\u001b[0m\n\u001b[0m\u001b[0;32m    584\u001b[0m \u001b[1;33m\u001b[0m\u001b[0m\n",
      "\u001b[1;31mLookupError\u001b[0m: \n**********************************************************************\n  Resource \u001b[93mstopwords\u001b[0m not found.\n  Please use the NLTK Downloader to obtain the resource:\n\n  \u001b[31m>>> import nltk\n  >>> nltk.download('stopwords')\n  \u001b[0m\n  For more information see: https://www.nltk.org/data.html\n\n  Attempted to load \u001b[93mcorpora/stopwords.zip/stopwords/\u001b[0m\n\n  Searched in:\n    - 'C:\\\\Users\\\\user2/nltk_data'\n    - 'C:\\\\Users\\\\user2\\\\anaconda3\\\\nltk_data'\n    - 'C:\\\\Users\\\\user2\\\\anaconda3\\\\share\\\\nltk_data'\n    - 'C:\\\\Users\\\\user2\\\\anaconda3\\\\lib\\\\nltk_data'\n    - 'C:\\\\Users\\\\user2\\\\AppData\\\\Roaming\\\\nltk_data'\n    - 'C:\\\\nltk_data'\n    - 'D:\\\\nltk_data'\n    - 'E:\\\\nltk_data'\n**********************************************************************\n",
      "\nDuring handling of the above exception, another exception occurred:\n",
      "\u001b[1;31mLookupError\u001b[0m                               Traceback (most recent call last)",
      "\u001b[1;32m~\\AppData\\Local\\Temp\\ipykernel_11316\\645736016.py\u001b[0m in \u001b[0;36m<module>\u001b[1;34m\u001b[0m\n\u001b[1;32m----> 1\u001b[1;33m \u001b[0mstopWords\u001b[0m \u001b[1;33m=\u001b[0m \u001b[0mset\u001b[0m\u001b[1;33m(\u001b[0m\u001b[0mstopwords\u001b[0m\u001b[1;33m.\u001b[0m\u001b[0mwords\u001b[0m\u001b[1;33m(\u001b[0m\u001b[1;34m'english'\u001b[0m\u001b[1;33m)\u001b[0m\u001b[1;33m)\u001b[0m\u001b[1;33m\u001b[0m\u001b[1;33m\u001b[0m\u001b[0m\n\u001b[0m\u001b[0;32m      2\u001b[0m \u001b[0mstopWords\u001b[0m\u001b[1;33m\u001b[0m\u001b[1;33m\u001b[0m\u001b[0m\n",
      "\u001b[1;32m~\\anaconda3\\lib\\site-packages\\nltk\\corpus\\util.py\u001b[0m in \u001b[0;36m__getattr__\u001b[1;34m(self, attr)\u001b[0m\n\u001b[0;32m    119\u001b[0m             \u001b[1;32mraise\u001b[0m \u001b[0mAttributeError\u001b[0m\u001b[1;33m(\u001b[0m\u001b[1;34m\"LazyCorpusLoader object has no attribute '__bases__'\"\u001b[0m\u001b[1;33m)\u001b[0m\u001b[1;33m\u001b[0m\u001b[1;33m\u001b[0m\u001b[0m\n\u001b[0;32m    120\u001b[0m \u001b[1;33m\u001b[0m\u001b[0m\n\u001b[1;32m--> 121\u001b[1;33m         \u001b[0mself\u001b[0m\u001b[1;33m.\u001b[0m\u001b[0m__load\u001b[0m\u001b[1;33m(\u001b[0m\u001b[1;33m)\u001b[0m\u001b[1;33m\u001b[0m\u001b[1;33m\u001b[0m\u001b[0m\n\u001b[0m\u001b[0;32m    122\u001b[0m         \u001b[1;31m# This looks circular, but its not, since __load() changes our\u001b[0m\u001b[1;33m\u001b[0m\u001b[1;33m\u001b[0m\u001b[0m\n\u001b[0;32m    123\u001b[0m         \u001b[1;31m# __class__ to something new:\u001b[0m\u001b[1;33m\u001b[0m\u001b[1;33m\u001b[0m\u001b[0m\n",
      "\u001b[1;32m~\\anaconda3\\lib\\site-packages\\nltk\\corpus\\util.py\u001b[0m in \u001b[0;36m__load\u001b[1;34m(self)\u001b[0m\n\u001b[0;32m     84\u001b[0m                     \u001b[0mroot\u001b[0m \u001b[1;33m=\u001b[0m \u001b[0mnltk\u001b[0m\u001b[1;33m.\u001b[0m\u001b[0mdata\u001b[0m\u001b[1;33m.\u001b[0m\u001b[0mfind\u001b[0m\u001b[1;33m(\u001b[0m\u001b[1;34mf\"{self.subdir}/{zip_name}\"\u001b[0m\u001b[1;33m)\u001b[0m\u001b[1;33m\u001b[0m\u001b[1;33m\u001b[0m\u001b[0m\n\u001b[0;32m     85\u001b[0m                 \u001b[1;32mexcept\u001b[0m \u001b[0mLookupError\u001b[0m\u001b[1;33m:\u001b[0m\u001b[1;33m\u001b[0m\u001b[1;33m\u001b[0m\u001b[0m\n\u001b[1;32m---> 86\u001b[1;33m                     \u001b[1;32mraise\u001b[0m \u001b[0me\u001b[0m\u001b[1;33m\u001b[0m\u001b[1;33m\u001b[0m\u001b[0m\n\u001b[0m\u001b[0;32m     87\u001b[0m \u001b[1;33m\u001b[0m\u001b[0m\n\u001b[0;32m     88\u001b[0m         \u001b[1;31m# Load the corpus.\u001b[0m\u001b[1;33m\u001b[0m\u001b[1;33m\u001b[0m\u001b[0m\n",
      "\u001b[1;32m~\\anaconda3\\lib\\site-packages\\nltk\\corpus\\util.py\u001b[0m in \u001b[0;36m__load\u001b[1;34m(self)\u001b[0m\n\u001b[0;32m     79\u001b[0m         \u001b[1;32melse\u001b[0m\u001b[1;33m:\u001b[0m\u001b[1;33m\u001b[0m\u001b[1;33m\u001b[0m\u001b[0m\n\u001b[0;32m     80\u001b[0m             \u001b[1;32mtry\u001b[0m\u001b[1;33m:\u001b[0m\u001b[1;33m\u001b[0m\u001b[1;33m\u001b[0m\u001b[0m\n\u001b[1;32m---> 81\u001b[1;33m                 \u001b[0mroot\u001b[0m \u001b[1;33m=\u001b[0m \u001b[0mnltk\u001b[0m\u001b[1;33m.\u001b[0m\u001b[0mdata\u001b[0m\u001b[1;33m.\u001b[0m\u001b[0mfind\u001b[0m\u001b[1;33m(\u001b[0m\u001b[1;34mf\"{self.subdir}/{self.__name}\"\u001b[0m\u001b[1;33m)\u001b[0m\u001b[1;33m\u001b[0m\u001b[1;33m\u001b[0m\u001b[0m\n\u001b[0m\u001b[0;32m     82\u001b[0m             \u001b[1;32mexcept\u001b[0m \u001b[0mLookupError\u001b[0m \u001b[1;32mas\u001b[0m \u001b[0me\u001b[0m\u001b[1;33m:\u001b[0m\u001b[1;33m\u001b[0m\u001b[1;33m\u001b[0m\u001b[0m\n\u001b[0;32m     83\u001b[0m                 \u001b[1;32mtry\u001b[0m\u001b[1;33m:\u001b[0m\u001b[1;33m\u001b[0m\u001b[1;33m\u001b[0m\u001b[0m\n",
      "\u001b[1;32m~\\anaconda3\\lib\\site-packages\\nltk\\data.py\u001b[0m in \u001b[0;36mfind\u001b[1;34m(resource_name, paths)\u001b[0m\n\u001b[0;32m    581\u001b[0m     \u001b[0msep\u001b[0m \u001b[1;33m=\u001b[0m \u001b[1;34m\"*\"\u001b[0m \u001b[1;33m*\u001b[0m \u001b[1;36m70\u001b[0m\u001b[1;33m\u001b[0m\u001b[1;33m\u001b[0m\u001b[0m\n\u001b[0;32m    582\u001b[0m     \u001b[0mresource_not_found\u001b[0m \u001b[1;33m=\u001b[0m \u001b[1;34mf\"\\n{sep}\\n{msg}\\n{sep}\\n\"\u001b[0m\u001b[1;33m\u001b[0m\u001b[1;33m\u001b[0m\u001b[0m\n\u001b[1;32m--> 583\u001b[1;33m     \u001b[1;32mraise\u001b[0m \u001b[0mLookupError\u001b[0m\u001b[1;33m(\u001b[0m\u001b[0mresource_not_found\u001b[0m\u001b[1;33m)\u001b[0m\u001b[1;33m\u001b[0m\u001b[1;33m\u001b[0m\u001b[0m\n\u001b[0m\u001b[0;32m    584\u001b[0m \u001b[1;33m\u001b[0m\u001b[0m\n\u001b[0;32m    585\u001b[0m \u001b[1;33m\u001b[0m\u001b[0m\n",
      "\u001b[1;31mLookupError\u001b[0m: \n**********************************************************************\n  Resource \u001b[93mstopwords\u001b[0m not found.\n  Please use the NLTK Downloader to obtain the resource:\n\n  \u001b[31m>>> import nltk\n  >>> nltk.download('stopwords')\n  \u001b[0m\n  For more information see: https://www.nltk.org/data.html\n\n  Attempted to load \u001b[93mcorpora/stopwords\u001b[0m\n\n  Searched in:\n    - 'C:\\\\Users\\\\user2/nltk_data'\n    - 'C:\\\\Users\\\\user2\\\\anaconda3\\\\nltk_data'\n    - 'C:\\\\Users\\\\user2\\\\anaconda3\\\\share\\\\nltk_data'\n    - 'C:\\\\Users\\\\user2\\\\anaconda3\\\\lib\\\\nltk_data'\n    - 'C:\\\\Users\\\\user2\\\\AppData\\\\Roaming\\\\nltk_data'\n    - 'C:\\\\nltk_data'\n    - 'D:\\\\nltk_data'\n    - 'E:\\\\nltk_data'\n**********************************************************************\n"
     ]
    }
   ],
   "source": [
    "stopWords = set(stopwords.words('english'))\n",
    "stopWords"
   ]
  },
  {
   "cell_type": "code",
   "execution_count": null,
   "id": "9e4b9a32",
   "metadata": {},
   "outputs": [],
   "source": [
    "def nlpPreprocessing(totalText, index, column):\n",
    "    if type(totalText) is not int:\n",
    "        string = \"\"\n",
    "        for words in totalText.split():\n",
    "            newWord = (\"\".join(e for e in words if e.isalnum()))\n",
    "            newWord = newWord.lower()\n",
    "            if newWord not in stopWords:\n",
    "                string += newWord + \" \"\n",
    "        reviewsUnique[column][index] = string"
   ]
  },
  {
   "cell_type": "code",
   "execution_count": null,
   "id": "f21fd9ed",
   "metadata": {},
   "outputs": [],
   "source": [
    "for index, row in reviewsUnique.iterrows():\n",
    "    nlpPreprocessing(row['title'], index, 'title')"
   ]
  },
  {
   "cell_type": "code",
   "execution_count": null,
   "id": "44fdf836",
   "metadata": {},
   "outputs": [],
   "source": [
    "reviewsUnique"
   ]
  },
  {
   "cell_type": "code",
   "execution_count": null,
   "id": "36297c7c",
   "metadata": {},
   "outputs": [],
   "source": [
    "reviewsUnique.to_csv('output/preprocessed.csv')"
   ]
  },
  {
   "cell_type": "code",
   "execution_count": null,
   "id": "247df409",
   "metadata": {},
   "outputs": [],
   "source": [
    "from nltk.stem.porter import *\n",
    "stemmer = PorterStemmer()"
   ]
  },
  {
   "cell_type": "code",
   "execution_count": null,
   "id": "fbee17ac",
   "metadata": {},
   "outputs": [],
   "source": [
    "def plotHeatmap(keys, values, labels, text):\n",
    "    gs = gridspec.GridSpec(2, 2, width_ratios = [4, 1], height_ratios = [4, 1])\n",
    "    fig = plt.figure(figsize = (25, 3))\n",
    "    ax = plt.subplot(gs[0])\n",
    "    ax = sns.heatmap(np.array([values]), annot = np.array([labels]))\n",
    "    ax.set_xticklabels(keys)\n",
    "    ax.set_title(text)\n",
    "    plt.show()"
   ]
  },
  {
   "cell_type": "code",
   "execution_count": null,
   "id": "51701775",
   "metadata": {},
   "outputs": [],
   "source": [
    "def plotHeatmapImage(docID, vec1, vec2, text, model):\n",
    "    intersection = set(vec1.keys()) & set(vec2.keys())\n",
    "    for i in vec2:\n",
    "        if i not in intersection:\n",
    "            vec2[i] = 0\n",
    "    keys = list(vec2.keys())\n",
    "    values = [vec2[x] for x in vec2.keys()]\n",
    "    if model == 'bag_of_words':\n",
    "        labels = values\n",
    "    elif model == 'tfidf':\n",
    "        labels = []\n",
    "        for x in vec2.keys():\n",
    "            if x in tfidf_title_vectorizer.vocabulary_:\n",
    "                labels.append(tfidf_title_features[docID, tfidf_title_vectorizer.vocabulary_[x]])\n",
    "            else:\n",
    "                labels.append(0)\n",
    "    elif model == 'idf':\n",
    "        labels = []\n",
    "        for x in vec2.keys():\n",
    "            if x in idf_title_vectorizer.vocabulary_:\n",
    "                labels.append(idf_title_features[docID, idf_title_vectorizer.vocabulary_[x]])\n",
    "            else:\n",
    "                labels.append(0)\n",
    "    plotHeatmap(keys, values, labels, text)         "
   ]
  },
  {
   "cell_type": "code",
   "execution_count": null,
   "id": "07af1854",
   "metadata": {},
   "outputs": [],
   "source": [
    "import re\n",
    "def textToVector(text):\n",
    "    word = re.compile(r'\\w+')\n",
    "    words = word.findall(text)\n",
    "    return Counter(words)"
   ]
  },
  {
   "cell_type": "code",
   "execution_count": null,
   "id": "ca159d9c",
   "metadata": {},
   "outputs": [],
   "source": [
    "def getResults(docID, contentA, contentB, model):\n",
    "    text1 = contentA\n",
    "    text2 = contentB\n",
    "    vector1 = textToVector(text1)\n",
    "    vector2 = textToVector(text2)\n",
    "    plotHeatmapImage(docID, vector1, vector2, text2, model)"
   ]
  },
  {
   "cell_type": "code",
   "execution_count": null,
   "id": "e8375ad8",
   "metadata": {},
   "outputs": [],
   "source": [
    "print(reviewsUnique.shape)\n",
    "reviewsUnique.head()"
   ]
  },
  {
   "cell_type": "code",
   "execution_count": null,
   "id": "980af939",
   "metadata": {},
   "outputs": [],
   "source": [
    "tfidf_title_vectorizer = TfidfVectorizer(min_df = 0)\n",
    "tfidf_title_features = tfidf_title_vectorizer.fit_transform(reviewsUnique['title'])\n",
    "print(tfidf_title_features[:5])\n",
    "print(tfidf_title_features.shape)"
   ]
  },
  {
   "cell_type": "code",
   "execution_count": null,
   "id": "07f0c395",
   "metadata": {},
   "outputs": [],
   "source": [
    "def tfidfModel(docID, numResults):\n",
    "    lt = []\n",
    "    pairwise_dist = pairwise_distances(tfidf_title_features, tfidf_title_features[docID])\n",
    "    indices = np.argsort(pairwise_dist.flatten())[0:numResults+5]\n",
    "    pdists = np.sort(pairwise_dist.flatten())[0:numResults+5]\n",
    "    dfIndices = list(reviewsUnique.index[indices])\n",
    "    for i in range(0, len(indices)):\n",
    "        if(pdists[i] != 0.0):\n",
    "            getResults(indices[i], reviewsUnique['title'].loc[dfIndices[0]], reviewsUnique['title'].loc[dfIndices[i]], 'tfidf')\n",
    "            lt.append(reviewsUnique['asin'].loc[dfIndices[i]])\n",
    "            print('ASIN :',reviewsUnique['asin'].loc[dfIndices[i]])\n",
    "            print ('Eucliden distance from the given image :', pdists[i])\n",
    "            print('='*100)\n",
    "    return lt\n",
    "tfidfModel(1,5)"
   ]
  },
  {
   "cell_type": "code",
   "execution_count": null,
   "id": "e7d53165",
   "metadata": {},
   "outputs": [],
   "source": [
    "reviewsUniqueCopy = reviewsUnique.copy().reset_index()\n",
    "print(reviewsUniqueCopy['asin'])"
   ]
  },
  {
   "cell_type": "code",
   "execution_count": null,
   "id": "357d8f19",
   "metadata": {},
   "outputs": [],
   "source": [
    "ip = int(input(\"Enter your choice: \"))\n",
    "lt = tfidfModel(ip, 5)"
   ]
  },
  {
   "cell_type": "code",
   "execution_count": null,
   "id": "4f3a826a",
   "metadata": {},
   "outputs": [],
   "source": [
    "lts = pd.DataFrame(lt)\n",
    "lts.rename(columns = {0:'asin'}, inplace = True)"
   ]
  },
  {
   "cell_type": "code",
   "execution_count": null,
   "id": "1a5d42f2",
   "metadata": {},
   "outputs": [],
   "source": [
    "found = pd.merge(lts, features, how = \"inner\", on = \"asin\")\n",
    "temp = pd.DataFrame(features.columns[1:])"
   ]
  },
  {
   "cell_type": "code",
   "execution_count": null,
   "id": "f36692bb",
   "metadata": {},
   "outputs": [],
   "source": [
    "temp"
   ]
  },
  {
   "cell_type": "code",
   "execution_count": null,
   "id": "13f09ad8",
   "metadata": {},
   "outputs": [],
   "source": [
    "print(\"Priority1: \")\n",
    "c1 = int(input())\n",
    "s1 = temp[0][c1]"
   ]
  },
  {
   "cell_type": "code",
   "execution_count": null,
   "id": "59b0b2ba",
   "metadata": {},
   "outputs": [],
   "source": [
    "print(\"Priority2: \")\n",
    "c2 = int(input())\n",
    "s2 = temp[0][c3]"
   ]
  },
  {
   "cell_type": "code",
   "execution_count": null,
   "id": "622f6918",
   "metadata": {},
   "outputs": [],
   "source": [
    "print(\"Priority3: \")\n",
    "c3 = int(input())\n",
    "s3 = temp[0][c3]"
   ]
  },
  {
   "cell_type": "code",
   "execution_count": null,
   "id": "6f290d97",
   "metadata": {},
   "outputs": [],
   "source": [
    "found.sort_values(by=[s1, s2, s3], ascending=False)"
   ]
  },
  {
   "cell_type": "code",
   "execution_count": null,
   "id": "b3ff0119",
   "metadata": {},
   "outputs": [],
   "source": []
  }
 ],
 "metadata": {
  "kernelspec": {
   "display_name": "Python 3 (ipykernel)",
   "language": "python",
   "name": "python3"
  },
  "language_info": {
   "codemirror_mode": {
    "name": "ipython",
    "version": 3
   },
   "file_extension": ".py",
   "mimetype": "text/x-python",
   "name": "python",
   "nbconvert_exporter": "python",
   "pygments_lexer": "ipython3",
   "version": "3.9.13"
  }
 },
 "nbformat": 4,
 "nbformat_minor": 5
}
